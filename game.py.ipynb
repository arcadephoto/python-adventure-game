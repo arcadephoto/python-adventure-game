{
 "cells": [
  {
   "cell_type": "code",
   "execution_count": null,
   "id": "protective-windsor",
   "metadata": {},
   "outputs": [],
   "source": [
    "import random\n",
    "\n",
    "class Player():\n",
    "    def __init__(self, name):\n",
    "        self.name = name\n",
    "        self.health = 10\n",
    "        self.lives = 3\n",
    "        self.items = []\n",
    "        self.blanket_pieces = 3"
   ]
  }
 ],
 "metadata": {
  "kernelspec": {
   "display_name": "Python 3",
   "language": "python",
   "name": "python3"
  },
  "language_info": {
   "codemirror_mode": {
    "name": "ipython",
    "version": 3
   },
   "file_extension": ".py",
   "mimetype": "text/x-python",
   "name": "python",
   "nbconvert_exporter": "python",
   "pygments_lexer": "ipython3",
   "version": "3.9.1"
  }
 },
 "nbformat": 4,
 "nbformat_minor": 5
}
